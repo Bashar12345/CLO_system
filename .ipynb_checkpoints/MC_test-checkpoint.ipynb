{
 "cells": [
  {
   "cell_type": "code",
   "execution_count": 4,
   "metadata": {},
   "outputs": [],
   "source": [
    "import pandas as pd\n",
    "import random\n",
    "import pymongo \n",
    "from pymongo import MongoClient\n",
    "connection= MongoClient('localhost',27017)\n",
    "mongosql=connection.exam\n",
    "from EXAM.model import machine_learning_mcq_model"
   ]
  },
  {
   "cell_type": "code",
   "execution_count": 8,
   "metadata": {},
   "outputs": [],
   "source": [
    "needed_course_code = ['SWE111','swe551']\n",
    "ML_model = mongosql.machine_learning_mcq_model\n",
    "mcq = ML_model.find()\n",
    "# ML_model=machine_learning_mcq_model.objects()\n",
    "mcq_df = pd.DataFrame(list(mcq))\n",
    "#mcq_df"
   ]
  },
  {
   "cell_type": "code",
   "execution_count": 13,
   "metadata": {},
   "outputs": [],
   "source": [
    "mcq_df.to_csv(\"demo.csv\",index=False)\n",
    "mcq_csv=pd.read_csv('demo.csv')\n",
    "#mcq_csv.head(2)\n",
    "#mcq_csv.is_null()\n",
    "#mcq_csv.shape()\n",
    "mcq_csv.drop(\"_id\",axis=1,inplace=True)"
   ]
  },
  {
   "cell_type": "code",
   "execution_count": 15,
   "metadata": {},
   "outputs": [
    {
     "data": {
      "text/html": [
       "<div>\n",
       "<style scoped>\n",
       "    .dataframe tbody tr th:only-of-type {\n",
       "        vertical-align: middle;\n",
       "    }\n",
       "\n",
       "    .dataframe tbody tr th {\n",
       "        vertical-align: top;\n",
       "    }\n",
       "\n",
       "    .dataframe thead th {\n",
       "        text-align: right;\n",
       "    }\n",
       "</style>\n",
       "<table border=\"1\" class=\"dataframe\">\n",
       "  <thead>\n",
       "    <tr style=\"text-align: right;\">\n",
       "      <th></th>\n",
       "      <th>question_dictionary</th>\n",
       "      <th>course_title</th>\n",
       "      <th>course_code</th>\n",
       "      <th>difficulty</th>\n",
       "      <th>type</th>\n",
       "      <th>question_point</th>\n",
       "    </tr>\n",
       "  </thead>\n",
       "  <tbody>\n",
       "    <tr>\n",
       "      <th>0</th>\n",
       "      <td>{'dummy question': 'dummy'}</td>\n",
       "      <td>Data Algorithm</td>\n",
       "      <td>swe151</td>\n",
       "      <td>Medium</td>\n",
       "      <td>mcq</td>\n",
       "      <td>24.872817</td>\n",
       "    </tr>\n",
       "    <tr>\n",
       "      <th>1</th>\n",
       "      <td>{'dummy question': 'dummy'}</td>\n",
       "      <td>Data Algorithm</td>\n",
       "      <td>swe151</td>\n",
       "      <td>Medium</td>\n",
       "      <td>mcq</td>\n",
       "      <td>18.862837</td>\n",
       "    </tr>\n",
       "    <tr>\n",
       "      <th>2</th>\n",
       "      <td>{'dummy question': 'dummy'}</td>\n",
       "      <td>Data Algorithm</td>\n",
       "      <td>swe151</td>\n",
       "      <td>Medium</td>\n",
       "      <td>mcq</td>\n",
       "      <td>27.166225</td>\n",
       "    </tr>\n",
       "    <tr>\n",
       "      <th>3</th>\n",
       "      <td>{'dummy question': 'dummy'}</td>\n",
       "      <td>Data Algorithm</td>\n",
       "      <td>swe151</td>\n",
       "      <td>Hard</td>\n",
       "      <td>mcq</td>\n",
       "      <td>15.883794</td>\n",
       "    </tr>\n",
       "    <tr>\n",
       "      <th>4</th>\n",
       "      <td>{'dummy question': 'dummy'}</td>\n",
       "      <td>Data Algorithm</td>\n",
       "      <td>swe151</td>\n",
       "      <td>Medium</td>\n",
       "      <td>mcq</td>\n",
       "      <td>26.342523</td>\n",
       "    </tr>\n",
       "  </tbody>\n",
       "</table>\n",
       "</div>"
      ],
      "text/plain": [
       "           question_dictionary    course_title course_code difficulty type  \\\n",
       "0  {'dummy question': 'dummy'}  Data Algorithm      swe151     Medium  mcq   \n",
       "1  {'dummy question': 'dummy'}  Data Algorithm      swe151     Medium  mcq   \n",
       "2  {'dummy question': 'dummy'}  Data Algorithm      swe151     Medium  mcq   \n",
       "3  {'dummy question': 'dummy'}  Data Algorithm      swe151       Hard  mcq   \n",
       "4  {'dummy question': 'dummy'}  Data Algorithm      swe151     Medium  mcq   \n",
       "\n",
       "   question_point  \n",
       "0       24.872817  \n",
       "1       18.862837  \n",
       "2       27.166225  \n",
       "3       15.883794  \n",
       "4       26.342523  "
      ]
     },
     "execution_count": 15,
     "metadata": {},
     "output_type": "execute_result"
    }
   ],
   "source": [
    "mcq_csv.dropna(inplace=True)# for removing the nulls in the Datasets\n",
    "mcq_csv.head(5)"
   ]
  }
 ],
 "metadata": {
  "kernelspec": {
   "display_name": "Python 3",
   "language": "python",
   "name": "python3"
  },
  "language_info": {
   "codemirror_mode": {
    "name": "ipython",
    "version": 3
   },
   "file_extension": ".py",
   "mimetype": "text/x-python",
   "name": "python",
   "nbconvert_exporter": "python",
   "pygments_lexer": "ipython3",
   "version": "3.8.5"
  }
 },
 "nbformat": 4,
 "nbformat_minor": 2
}
