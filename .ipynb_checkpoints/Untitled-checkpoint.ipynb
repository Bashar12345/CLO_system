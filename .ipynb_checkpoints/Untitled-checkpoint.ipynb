{
 "cells": [
  {
   "cell_type": "code",
   "execution_count": 12,
   "metadata": {},
   "outputs": [],
   "source": [
    "import random\n",
    "from EXAM.model import required_for_generate,machine_learning_mcq_model,mcqQuestion"
   ]
  },
  {
   "cell_type": "code",
   "execution_count": 13,
   "metadata": {},
   "outputs": [],
   "source": [
    "objects_of_requirement=required_for_generate.objects(course_code='swe151').first()"
   ]
  },
  {
   "cell_type": "code",
   "execution_count": 16,
   "metadata": {},
   "outputs": [],
   "source": [
    "    MCQ_questions = []\n",
    "    question_part = []\n",
    "    crse_code = objects_of_requirement.course_code\n",
    "    for i in mcqQuestion.objects(course_code=crse_code):\n",
    "        MCQ_questions.append(i.question)\n",
    "    #print(MCQ_questions)\n",
    "    random.shuffle(MCQ_questions)\n",
    "    #print(MCQ_questions)"
   ]
  },
  {
   "cell_type": "code",
   "execution_count": 19,
   "metadata": {},
   "outputs": [
    {
     "name": "stdout",
     "output_type": "stream",
     "text": [
      "[]\n",
      "[]\n"
     ]
    }
   ],
   "source": [
    "    shuffled_question_list = []\n",
    "    full_set_shuffled_question = []\n",
    "    for ques in question_part:\n",
    "        for j in mcqQuestion.objects(question=ques):\n",
    "            shuffled_question_list = ques.question_dictionary\n",
    "    print(shuffled_question_list)\n",
    "    for ques in shuffled_question_list:\n",
    "        question_bank = mcqQuestion.objects(question=ques).first()\n",
    "        print(question_bank.question_dictionary)\n",
    "        full_set_shuffled_question.append(question_bank.question_dictionary)\n",
    "    print(full_set_shuffled_question)"
   ]
  },
  {
   "cell_type": "code",
   "execution_count": 17,
   "metadata": {},
   "outputs": [
    {
     "ename": "NameError",
     "evalue": "name 'shuffled_list' is not defined",
     "output_type": "error",
     "traceback": [
      "\u001b[0;31m---------------------------------------------------------------------------\u001b[0m",
      "\u001b[0;31mNameError\u001b[0m                                 Traceback (most recent call last)",
      "\u001b[0;32m<ipython-input-17-69ed5a1ed2db>\u001b[0m in \u001b[0;36m<module>\u001b[0;34m\u001b[0m\n\u001b[1;32m      6\u001b[0m \u001b[0mtotal_question\u001b[0m\u001b[0;34m=\u001b[0m\u001b[0mobjects_of_requirement\u001b[0m\u001b[0;34m.\u001b[0m\u001b[0mnumber_of_question\u001b[0m\u001b[0;34m\u001b[0m\u001b[0;34m\u001b[0m\u001b[0m\n\u001b[1;32m      7\u001b[0m \u001b[0;31m# new_question_dict=dict()\u001b[0m\u001b[0;34m\u001b[0m\u001b[0;34m\u001b[0m\u001b[0;34m\u001b[0m\u001b[0m\n\u001b[0;32m----> 8\u001b[0;31m \u001b[0mquestion_data\u001b[0m \u001b[0;34m=\u001b[0m \u001b[0mrandom\u001b[0m\u001b[0;34m.\u001b[0m\u001b[0msample\u001b[0m\u001b[0;34m(\u001b[0m\u001b[0mshuffled_list\u001b[0m\u001b[0;34m,\u001b[0m \u001b[0mk\u001b[0m\u001b[0;34m=\u001b[0m\u001b[0mtotal_question\u001b[0m\u001b[0;34m)\u001b[0m\u001b[0;34m\u001b[0m\u001b[0;34m\u001b[0m\u001b[0m\n\u001b[0m\u001b[1;32m      9\u001b[0m \u001b[0;32mfor\u001b[0m \u001b[0mquestion\u001b[0m \u001b[0;32min\u001b[0m \u001b[0mquestion_data\u001b[0m\u001b[0;34m:\u001b[0m\u001b[0;34m\u001b[0m\u001b[0;34m\u001b[0m\u001b[0m\n\u001b[1;32m     10\u001b[0m     \u001b[0;32mfor\u001b[0m \u001b[0mfull_set\u001b[0m \u001b[0;32min\u001b[0m \u001b[0mmcqQuestion\u001b[0m\u001b[0;34m.\u001b[0m\u001b[0mobjects\u001b[0m\u001b[0;34m(\u001b[0m\u001b[0mquestion\u001b[0m\u001b[0;34m=\u001b[0m\u001b[0mquestion\u001b[0m\u001b[0;34m)\u001b[0m\u001b[0;34m.\u001b[0m\u001b[0mfirst\u001b[0m\u001b[0;34m(\u001b[0m\u001b[0;34m)\u001b[0m\u001b[0;34m:\u001b[0m\u001b[0;34m\u001b[0m\u001b[0;34m\u001b[0m\u001b[0m\n",
      "\u001b[0;31mNameError\u001b[0m: name 'shuffled_list' is not defined"
     ]
    }
   ],
   "source": [
    "    new_question_list = list()\n",
    "    complex=0\n",
    "    complex_counter=0\n",
    "    question_count=0\n",
    "    highest_question_counts_complex_level=0\n",
    "    total_question=objects_of_requirement.number_of_question\n",
    "    # new_question_dict=dict()\n",
    "    question_data = random.sample(shuffled_list, k=total_question)\n",
    "    for question in question_data:\n",
    "        for full_set in mcqQuestion.objects(question=question).first():\n",
    "            complex=full_set.complex_level\n",
    "            if full_set.complex_level == 1:\n",
    "                question_count+= 1\n",
    "                print(complex)\n",
    "                \n",
    "            new_question_list.append(full_set.question_dictionary)\n",
    "    print(new_question_list)"
   ]
  },
  {
   "cell_type": "code",
   "execution_count": null,
   "metadata": {},
   "outputs": [],
   "source": []
  }
 ],
 "metadata": {
  "kernelspec": {
   "display_name": "Python 3",
   "language": "python",
   "name": "python3"
  },
  "language_info": {
   "codemirror_mode": {
    "name": "ipython",
    "version": 3
   },
   "file_extension": ".py",
   "mimetype": "text/x-python",
   "name": "python",
   "nbconvert_exporter": "python",
   "pygments_lexer": "ipython3",
   "version": "3.8.5"
  }
 },
 "nbformat": 4,
 "nbformat_minor": 4
}
