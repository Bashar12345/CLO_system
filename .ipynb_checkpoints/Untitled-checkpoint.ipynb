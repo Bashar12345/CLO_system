{
 "cells": [
  {
   "cell_type": "code",
   "execution_count": 1,
   "metadata": {},
   "outputs": [
    {
     "name": "stdout",
     "output_type": "stream",
     "text": [
      "database_connected\n"
     ]
    }
   ],
   "source": [
    "import random\n",
    "from EXAM.model import required_for_generate,machine_learning_mcq_model,mcqQuestion"
   ]
  },
  {
   "cell_type": "code",
   "execution_count": 2,
   "metadata": {},
   "outputs": [],
   "source": [
    "objects_of_requirement=required_for_generate.objects(course_code='swe151').first()"
   ]
  },
  {
   "cell_type": "code",
   "execution_count": 3,
   "metadata": {},
   "outputs": [],
   "source": [
    "    MCQ_questions = []\n",
    "    question_part = []\n",
    "    crse_code = objects_of_requirement.course_code\n",
    "    for i in mcqQuestion.objects(course_code=crse_code):\n",
    "        MCQ_questions.append(i.question)\n",
    "    question_part=random.sample(MCQ_questions, objects_of_requirement.number_of_question)\n",
    "    #print(MCQ_questions)\n",
    "    #print(random.sample(MCQ_questions, 2))\n",
    "    #random.shuffle(MCQ_questions)\n",
    "    #print(MCQ_questions)\n",
    "    #print(question_part)"
   ]
  },
  {
   "cell_type": "code",
   "execution_count": 4,
   "metadata": {},
   "outputs": [
    {
     "name": "stdout",
     "output_type": "stream",
     "text": [
      "{' A graph containing only isolated vertices is called ___': ['null graph', 'solated graph', 'null graph', 'directed graph', 'multigraph']}\n",
      "{'At the time of insertion of an item to the list, the ___ condition is first checked': ['OVER FLOW', 'OVER FLOW', ' UNDER FLOW', ' FIRST FLOW', 'LAST FLOW']}\n",
      "{'Exp (one point five, minus three) = ?': [' 1/3.375', '0', '1.5', '-3', ' 1/3.375']}\n",
      "{' Which concept simplifies the task of writing the large programs?': ['Divide and conquer', 'Divide and conquer', 'Modularity', ' Time Complexity', ' Partitioning']}\n",
      "{'Descriptor’s successor must appear after that descriptor in ___ ordering for topological sort': ['linear', 'linear', 'alphabetical', 'random', 'unique']}\n",
      "{'Name the arrangement in which the null pointer in the last node is replaced with the address of the first node': ['Circular linked list', 'Doubly linked list', 'Circular linked list', 'One-way list', 'Two-way list']}\n",
      "{' Dijkstra’s algorithm can be applied for unweighted directed graph': ['False', 'False', 'truth', 'not adopted', 'not included']}\n",
      "{'Stack is also known as ___': ['LIFO', 'LIFO', 'FIFO', 'LILO', 'FILO']}\n",
      "{'The ___ method of notation is one of the frequently used methods for expressing algorithms': ['Pseudo-code', 'Dynamic programming', 'Divide and Conquer', 'Pseudo-code', 'Procedural']}\n",
      "{'A/an ___ algorithm is used to solve an optimization problem': ['Optimization', 'Complete', 'Approximation', 'Optimization', 'Decision']}\n"
     ]
    }
   ],
   "source": [
    "    shuffled_question_list = []\n",
    "    full_set_shuffled_question = []\n",
    "    for ques in question_part:\n",
    "        for j in mcqQuestion.objects(question=ques):\n",
    "            shuffled_question_list.append(j.question_dictionary)\n",
    "    #print(shuffled_question_list)\n",
    "    for ques in shuffled_question_list:\n",
    "        #print(ques)\n",
    "        question_bank = mcqQuestion.objects(question_dictionary=ques).first()\n",
    "        #print(question_bank.question_dictionary)\n",
    "        #full_set_shuffled_question.append(question_bank.question_dictionary)\n",
    "    #print(full_set_shuffled_question)"
   ]
  },
  {
   "cell_type": "code",
   "execution_count": 6,
   "metadata": {},
   "outputs": [
    {
     "ename": "NameError",
     "evalue": "name 'shuffled_list' is not defined",
     "output_type": "error",
     "traceback": [
      "\u001b[0;31m---------------------------------------------------------------------------\u001b[0m",
      "\u001b[0;31mNameError\u001b[0m                                 Traceback (most recent call last)",
      "\u001b[0;32m<ipython-input-6-69ed5a1ed2db>\u001b[0m in \u001b[0;36m<module>\u001b[0;34m\u001b[0m\n\u001b[1;32m      6\u001b[0m \u001b[0mtotal_question\u001b[0m\u001b[0;34m=\u001b[0m\u001b[0mobjects_of_requirement\u001b[0m\u001b[0;34m.\u001b[0m\u001b[0mnumber_of_question\u001b[0m\u001b[0;34m\u001b[0m\u001b[0;34m\u001b[0m\u001b[0m\n\u001b[1;32m      7\u001b[0m \u001b[0;31m# new_question_dict=dict()\u001b[0m\u001b[0;34m\u001b[0m\u001b[0;34m\u001b[0m\u001b[0;34m\u001b[0m\u001b[0m\n\u001b[0;32m----> 8\u001b[0;31m \u001b[0mquestion_data\u001b[0m \u001b[0;34m=\u001b[0m \u001b[0mrandom\u001b[0m\u001b[0;34m.\u001b[0m\u001b[0msample\u001b[0m\u001b[0;34m(\u001b[0m\u001b[0mshuffled_list\u001b[0m\u001b[0;34m,\u001b[0m \u001b[0mk\u001b[0m\u001b[0;34m=\u001b[0m\u001b[0mtotal_question\u001b[0m\u001b[0;34m)\u001b[0m\u001b[0;34m\u001b[0m\u001b[0;34m\u001b[0m\u001b[0m\n\u001b[0m\u001b[1;32m      9\u001b[0m \u001b[0;32mfor\u001b[0m \u001b[0mquestion\u001b[0m \u001b[0;32min\u001b[0m \u001b[0mquestion_data\u001b[0m\u001b[0;34m:\u001b[0m\u001b[0;34m\u001b[0m\u001b[0;34m\u001b[0m\u001b[0m\n\u001b[1;32m     10\u001b[0m     \u001b[0;32mfor\u001b[0m \u001b[0mfull_set\u001b[0m \u001b[0;32min\u001b[0m \u001b[0mmcqQuestion\u001b[0m\u001b[0;34m.\u001b[0m\u001b[0mobjects\u001b[0m\u001b[0;34m(\u001b[0m\u001b[0mquestion\u001b[0m\u001b[0;34m=\u001b[0m\u001b[0mquestion\u001b[0m\u001b[0;34m)\u001b[0m\u001b[0;34m.\u001b[0m\u001b[0mfirst\u001b[0m\u001b[0;34m(\u001b[0m\u001b[0;34m)\u001b[0m\u001b[0;34m:\u001b[0m\u001b[0;34m\u001b[0m\u001b[0;34m\u001b[0m\u001b[0m\n",
      "\u001b[0;31mNameError\u001b[0m: name 'shuffled_list' is not defined"
     ]
    }
   ],
   "source": [
    "    new_question_list = list()\n",
    "    complex=0\n",
    "    complex_counter=0\n",
    "    question_count=0\n",
    "    highest_question_counts_complex_level=0\n",
    "    total_question=objects_of_requirement.number_of_question\n",
    "    # new_question_dict=dict()\n",
    "    question_data = random.sample(shuffled_list, k=total_question)\n",
    "    for question in question_data:\n",
    "        for full_set in mcqQuestion.objects(question=question).first():\n",
    "            complex=full_set.complex_level\n",
    "            if full_set.complex_level == 1:\n",
    "                question_count+= 1\n",
    "                print(complex)\n",
    "                \n",
    "            new_question_list.append(full_set.question_dictionary)\n",
    "    print(new_question_list)"
   ]
  },
  {
   "cell_type": "code",
   "execution_count": null,
   "metadata": {},
   "outputs": [],
   "source": []
  }
 ],
 "metadata": {
  "kernelspec": {
   "display_name": "Python 3",
   "language": "python",
   "name": "python3"
  },
  "language_info": {
   "codemirror_mode": {
    "name": "ipython",
    "version": 3
   },
   "file_extension": ".py",
   "mimetype": "text/x-python",
   "name": "python",
   "nbconvert_exporter": "python",
   "pygments_lexer": "ipython3",
   "version": "3.8.5"
  }
 },
 "nbformat": 4,
 "nbformat_minor": 4
}
