{
 "cells": [
  {
   "cell_type": "code",
   "execution_count": 16,
   "metadata": {},
   "outputs": [],
   "source": [
    "import pandas as pd\n",
    "import random\n",
    "import pymongo \n",
    "from pymongo import MongoClient\n",
    "connection= MongoClient('localhost',27017)\n",
    "mongosql=connection.exam\n",
    "from EXAM.model import machine_learning_mcq_model"
   ]
  },
  {
   "cell_type": "code",
   "execution_count": 5,
   "metadata": {},
   "outputs": [],
   "source": [
    "needed_course_code = ['SWE111','swe551']"
   ]
  },
  {
   "cell_type": "code",
   "execution_count": 25,
   "metadata": {},
   "outputs": [],
   "source": [
    "mcq_data=mongosql.machine_learning_mcq_model\n",
    "question=mcq_data.find()\n",
    "mcq=pd.DataFrame(list(question))\n",
    "mcq.to_csv(\"demo.csv\",index=False)"
   ]
  },
  {
   "cell_type": "code",
   "execution_count": 33,
   "metadata": {},
   "outputs": [
    {
     "data": {
      "text/html": [
       "<div>\n",
       "<style scoped>\n",
       "    .dataframe tbody tr th:only-of-type {\n",
       "        vertical-align: middle;\n",
       "    }\n",
       "\n",
       "    .dataframe tbody tr th {\n",
       "        vertical-align: top;\n",
       "    }\n",
       "\n",
       "    .dataframe thead th {\n",
       "        text-align: right;\n",
       "    }\n",
       "</style>\n",
       "<table border=\"1\" class=\"dataframe\">\n",
       "  <thead>\n",
       "    <tr style=\"text-align: right;\">\n",
       "      <th></th>\n",
       "      <th>_id</th>\n",
       "      <th>question_dictionary</th>\n",
       "      <th>course_title</th>\n",
       "      <th>course_code</th>\n",
       "      <th>difficulty</th>\n",
       "      <th>type</th>\n",
       "      <th>question_point</th>\n",
       "    </tr>\n",
       "  </thead>\n",
       "  <tbody>\n",
       "    <tr>\n",
       "      <th>0</th>\n",
       "      <td>60690ef981980b97a76a84bf</td>\n",
       "      <td>{'dummy question': 'dummy'}</td>\n",
       "      <td>Data Algorithm</td>\n",
       "      <td>swe151</td>\n",
       "      <td>Medium</td>\n",
       "      <td>mcq</td>\n",
       "      <td>24.872817</td>\n",
       "    </tr>\n",
       "    <tr>\n",
       "      <th>1</th>\n",
       "      <td>60690ef981980b97a76a84c0</td>\n",
       "      <td>{'dummy question': 'dummy'}</td>\n",
       "      <td>Data Algorithm</td>\n",
       "      <td>swe151</td>\n",
       "      <td>Medium</td>\n",
       "      <td>mcq</td>\n",
       "      <td>18.862837</td>\n",
       "    </tr>\n",
       "  </tbody>\n",
       "</table>\n",
       "</div>"
      ],
      "text/plain": [
       "                        _id          question_dictionary    course_title  \\\n",
       "0  60690ef981980b97a76a84bf  {'dummy question': 'dummy'}  Data Algorithm   \n",
       "1  60690ef981980b97a76a84c0  {'dummy question': 'dummy'}  Data Algorithm   \n",
       "\n",
       "  course_code difficulty type  question_point  \n",
       "0      swe151     Medium  mcq       24.872817  \n",
       "1      swe151     Medium  mcq       18.862837  "
      ]
     },
     "execution_count": 33,
     "metadata": {},
     "output_type": "execute_result"
    }
   ],
   "source": [
    "mcq_csv=pd.read_csv('demo.csv')\n",
    "mcq_csv.head(2)\n",
    "#mcq_csv.is_null()"
   ]
  },
  {
   "cell_type": "code",
   "execution_count": 35,
   "metadata": {},
   "outputs": [
    {
     "ename": "TypeError",
     "evalue": "'tuple' object is not callable",
     "output_type": "error",
     "traceback": [
      "\u001b[0;31m---------------------------------------------------------------------------\u001b[0m",
      "\u001b[0;31mTypeError\u001b[0m                                 Traceback (most recent call last)",
      "\u001b[0;32m<ipython-input-35-52897512c00f>\u001b[0m in \u001b[0;36m<module>\u001b[0;34m\u001b[0m\n\u001b[0;32m----> 1\u001b[0;31m \u001b[0mmcq_csv\u001b[0m\u001b[0;34m.\u001b[0m\u001b[0mshape\u001b[0m\u001b[0;34m(\u001b[0m\u001b[0;34m)\u001b[0m\u001b[0;34m\u001b[0m\u001b[0;34m\u001b[0m\u001b[0m\n\u001b[0m",
      "\u001b[0;31mTypeError\u001b[0m: 'tuple' object is not callable"
     ]
    }
   ],
   "source": [
    "mcq_csv.shape()"
   ]
  },
  {
   "cell_type": "code",
   "execution_count": null,
   "metadata": {},
   "outputs": [],
   "source": []
  }
 ],
 "metadata": {
  "kernelspec": {
   "display_name": "Python 3",
   "language": "python",
   "name": "python3"
  },
  "language_info": {
   "codemirror_mode": {
    "name": "ipython",
    "version": 3
   },
   "file_extension": ".py",
   "mimetype": "text/x-python",
   "name": "python",
   "nbconvert_exporter": "python",
   "pygments_lexer": "ipython3",
   "version": "3.8.5"
  }
 },
 "nbformat": 4,
 "nbformat_minor": 2
}
