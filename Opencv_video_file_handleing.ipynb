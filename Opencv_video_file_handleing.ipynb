{
 "cells": [
  {
   "cell_type": "code",
   "execution_count": 14,
   "id": "8bb2a943",
   "metadata": {},
   "outputs": [],
   "source": [
    "import mongoengine as nosql\n",
    "from EXAM.model import user_student,mcq_answer_paper,Only_file\n",
    "instance_path = \"/home/b/Desktop/CLO_system/EXAM/static/temp/\""
   ]
  },
  {
   "cell_type": "code",
   "execution_count": 15,
   "id": "1398bd3e",
   "metadata": {},
   "outputs": [],
   "source": [
    "     for answer_count in range(1,16):\n",
    "        name = instance_path + \"ayshakhatun@example.com\" + \"_\" + str(answer_count) + \".avi\"\n",
    "\n",
    "        db_vid_name = \"quiz-4\"+\"_\"+\"swe151\" + \"_\" + \\\n",
    "           \"ayshakhatun@example.com\" + \"_\" + str(answer_count) + \".avi\"\n",
    "        \n",
    "        #session['db_vid_name_list'].append(db_vid_name)\n",
    "\n",
    "        video = Only_file()\n",
    "\n",
    "        video.v_id = db_vid_name\n",
    "\n",
    "        with open(name, \"rb\")as fr:\n",
    "\n",
    "            video.binary_file.put(\n",
    "                fr, filename=db_vid_name, content_type='video/x-msvideo')\n",
    "\n",
    "            video.save()\n",
    "\n",
    "            fr.close()"
   ]
  },
  {
   "cell_type": "code",
   "execution_count": null,
   "id": "8690d814",
   "metadata": {},
   "outputs": [],
   "source": []
  },
  {
   "cell_type": "code",
   "execution_count": null,
   "id": "af7088d0",
   "metadata": {},
   "outputs": [],
   "source": []
  },
  {
   "cell_type": "code",
   "execution_count": null,
   "id": "34f71737",
   "metadata": {},
   "outputs": [],
   "source": []
  },
  {
   "cell_type": "code",
   "execution_count": null,
   "id": "11acfd88",
   "metadata": {},
   "outputs": [],
   "source": []
  },
  {
   "cell_type": "code",
   "execution_count": null,
   "id": "64299fa9",
   "metadata": {},
   "outputs": [],
   "source": []
  },
  {
   "cell_type": "code",
   "execution_count": 32,
   "id": "af4bf665",
   "metadata": {},
   "outputs": [],
   "source": [
    "c=0\n",
    "v_list=list()\n",
    "name = instance_path+ \"ayshakhatun@example.com\" + \"_\"+ str(c) +\".avi\""
   ]
  },
  {
   "cell_type": "code",
   "execution_count": 62,
   "id": "4ffae7e4",
   "metadata": {},
   "outputs": [],
   "source": [
    "class OneVideo(nosql.EmbeddedDocument):\n",
    "    element = nosql.FileField()\n",
    "class vid_in(nosql.Document):\n",
    "    v_id = nosql.StringField()\n",
    "    vid_list= nosql.ListField(nosql.EmbeddedDocumentField(OneVideo))"
   ]
  },
  {
   "cell_type": "code",
   "execution_count": 71,
   "id": "f362fef7",
   "metadata": {},
   "outputs": [
    {
     "name": "stdout",
     "output_type": "stream",
     "text": [
      "[<_io.BufferedReader name='/home/b/Desktop/CLO_system/EXAM/static/temp/ayshakhatun@example.com_0.avi'>, <_io.BufferedReader name='/home/b/Desktop/CLO_system/EXAM/static/temp/ayshakhatun@example.com_1.avi'>, <_io.BufferedReader name='/home/b/Desktop/CLO_system/EXAM/static/temp/ayshakhatun@example.com_2.avi'>, <_io.BufferedReader name='/home/b/Desktop/CLO_system/EXAM/static/temp/ayshakhatun@example.com_3.avi'>]\n"
     ]
    }
   ],
   "source": [
    "video_input=vid_in.objects(v_id= 'One Video -1').first()\n",
    "#video_input.v_id= 'One Video -1'\n",
    "v_l=[]\n",
    "for c in range(0,4):\n",
    "    name = instance_path+ \"ayshakhatun@example.com\" + \"_\"+ str(c) +\".avi\"\n",
    "    with open(name,\"rb\")as fr:\n",
    "        v_l.append(fr)\n",
    "        video=OneVideo()\n",
    "        video.element.put(fr,filename=name,content_type='video/avi')\n",
    "        video_input.vid_list.append(video)\n",
    "video_input.save()\n",
    "print(v_l)    "
   ]
  }
 ],
 "metadata": {
  "kernelspec": {
   "display_name": "Python 3",
   "language": "python",
   "name": "python3"
  },
  "language_info": {
   "codemirror_mode": {
    "name": "ipython",
    "version": 3
   },
   "file_extension": ".py",
   "mimetype": "text/x-python",
   "name": "python",
   "nbconvert_exporter": "python",
   "pygments_lexer": "ipython3",
   "version": "3.8.10"
  }
 },
 "nbformat": 4,
 "nbformat_minor": 5
}
