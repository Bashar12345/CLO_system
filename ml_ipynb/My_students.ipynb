{
 "cells": [
  {
   "cell_type": "code",
   "execution_count": 36,
   "metadata": {},
   "outputs": [],
   "source": [
    "from EXAM.model import student_courses_model,enrol_students_model,\\\n",
    "teacher_created_courses_model,user_student\n",
    "from EXAM.configaration import User_type, user_obj"
   ]
  },
  {
   "cell_type": "code",
   "execution_count": 38,
   "metadata": {},
   "outputs": [
    {
     "data": {
      "text/plain": [
       "[<student_courses_model: student_courses_model object>]"
      ]
     },
     "execution_count": 38,
     "metadata": {},
     "output_type": "execute_result"
    }
   ],
   "source": [
    "    user_total = list()\n",
    "    students_name = list()\n",
    "    usered = user_obj.e\n",
    "    students = student_courses_model.objects()\n",
    "    students"
   ]
  },
  {
   "cell_type": "code",
   "execution_count": 47,
   "metadata": {},
   "outputs": [
    {
     "name": "stdout",
     "output_type": "stream",
     "text": [
      "ayshakhatun@example.com\n",
      "['ayshakhatun@example.com']\n",
      "Aysha\n",
      "['ayshakhatun@example.com', 'Aysha', 'Aysha']\n"
     ]
    }
   ],
   "source": [
    "for student in students:\n",
    "    print(student.student_registered_id)\n",
    "    for enrolled in enrol_students_model.objects(enrolled_students_id=student.student_registered_id):\n",
    "    #print(enrolled.course_code)\n",
    "      for teacher in teacher_created_courses_model.objects(teacher_registered_id=\"bashar@example.com\"):\n",
    "    #print(teacher.course_code)\n",
    "       if teacher.course_code ==enrolled.course_code and \\\n",
    "        student.course_code==enrolled.course_code:\n",
    "           #print(student.student_registered_id) \n",
    "           if student.student_registered_id not in user_total:\n",
    "                user_total.append(student.student_registered_id)\n",
    "           #print(\"matched\")\n",
    "print(user_total)\n",
    "for user in user_total:\n",
    "    for user_s in user_student.objects(email=user):\n",
    "        print(user_s.user_name)\n",
    "        if user_s.user_name not in students_name:\n",
    "            students_name.append(user_s.user_name)\n",
    "print(students_name)"
   ]
  },
  {
   "cell_type": "code",
   "execution_count": 42,
   "metadata": {},
   "outputs": [
    {
     "name": "stdout",
     "output_type": "stream",
     "text": [
      "['ayshakhatun@example.com']\n"
     ]
    }
   ],
   "source": [
    "for enrolled in enrol_students_model.objects(enrolled_students_id=student.student_registered_id):\n",
    "    #print(enrolled.course_code)\n",
    "    for teacher in teacher_created_courses_model.objects(teacher_registered_id=\"bashar@example.com\"):\n",
    "    #print(teacher.course_code)\n",
    "       if teacher.course_code ==enrolled.course_code and \\\n",
    "        student.course_code==enrolled.course_code:\n",
    "           #print(student.student_registered_id) \n",
    "           if student.student_registered_id not in user_total:\n",
    "                user_total.append(student.student_registered_id)\n",
    "           #print(\"matched\")\n",
    "print(user_total)"
   ]
  },
  {
   "cell_type": "code",
   "execution_count": 44,
   "metadata": {},
   "outputs": [
    {
     "name": "stdout",
     "output_type": "stream",
     "text": [
      "Aysha\n",
      "['ayshakhatun@example.com', 'Aysha']\n"
     ]
    }
   ],
   "source": [
    "for user in user_total:\n",
    "    for user_s in user_student.objects(email=user):\n",
    "        print(user_s.user_name)\n",
    "        students_name.append(user_s.user_name)\n",
    "print(students_name)"
   ]
  }
 ],
 "metadata": {
  "kernelspec": {
   "display_name": "Python 3",
   "language": "python",
   "name": "python3"
  },
  "language_info": {
   "codemirror_mode": {
    "name": "ipython",
    "version": 3
   },
   "file_extension": ".py",
   "mimetype": "text/x-python",
   "name": "python",
   "nbconvert_exporter": "python",
   "pygments_lexer": "ipython3",
   "version": "3.8.5"
  }
 },
 "nbformat": 4,
 "nbformat_minor": 4
}
