{
 "cells": [
  {
   "cell_type": "code",
   "execution_count": 1,
   "metadata": {},
   "outputs": [
    {
     "name": "stdout",
     "output_type": "stream",
     "text": [
      "database_connected\n"
     ]
    }
   ],
   "source": [
    "import random\n",
    "from EXAM.model import required_for_generate,machine_learning_mcq_model,mcqQuestion"
   ]
  },
  {
   "cell_type": "code",
   "execution_count": 2,
   "metadata": {},
   "outputs": [],
   "source": [
    "objects_of_requirement=required_for_generate.objects(course_code='swe151').first()"
   ]
  },
  {
   "cell_type": "code",
   "execution_count": 63,
   "metadata": {},
   "outputs": [],
   "source": [
    "    MCQ_questions = []\n",
    "    question_part = []\n",
    "    crse_code = objects_of_requirement.course_code\n",
    "    for i in mcqQuestion.objects(course_code=crse_code):\n",
    "        MCQ_questions.append(i.question)\n",
    "    question_part=random.sample(MCQ_questions, objects_of_requirement.number_of_question)\n",
    "    #print(MCQ_questions)\n",
    "    #print(random.sample(MCQ_questions, 2))\n",
    "    #random.shuffle(MCQ_questions)\n",
    "    #print(MCQ_questions)\n",
    "    #print(question_part)"
   ]
  },
  {
   "cell_type": "code",
   "execution_count": 61,
   "metadata": {},
   "outputs": [],
   "source": [
    "    shuffled_question_list = []\n",
    "    full_set_shuffled_question = []\n",
    "    for ques in question_part:\n",
    "        for j in mcqQuestion.objects(question=ques):\n",
    "            shuffled_question_list.append(j.question_dictionary)\n",
    "    #print(shuffled_question_list)\n",
    "    for ques in shuffled_question_list:\n",
    "        #print(ques)\n",
    "        question_bank = mcqQuestion.objects(question_dictionary=ques).first()\n",
    "        \n",
    "        #print(question_bank.complex_level)\n",
    "        #full_set_shuffled_question.append(question_bank.question_dictionary)\n",
    "    #print(full_set_shuffled_question)"
   ]
  },
  {
   "cell_type": "code",
   "execution_count": 66,
   "metadata": {},
   "outputs": [
    {
     "name": "stdout",
     "output_type": "stream",
     "text": [
      "['l-2 requirement', 'l-1 intro']\n",
      " eta total_counted ['1', '1', '3', '1', '1', '1', '1', '1', '3', '2']\n",
      "7 eta 1 eta 2\n",
      "25.0\n"
     ]
    }
   ],
   "source": [
    "course_code=''\n",
    "lessons=[]\n",
    "complex=''\n",
    "easy=1\n",
    "medium=2\n",
    "hard=3\n",
    "easy_count=0\n",
    "medium_count=0\n",
    "hard_count=0\n",
    "question_count=[]\n",
    "complexity_level_of_highest_question_count=0\n",
    "total_question=objects_of_requirement.number_of_question\n",
    "for ques in shuffled_question_list:\n",
    "        #print(ques)\n",
    "        question_paper = mcqQuestion.objects(question_dictionary=ques).first()\n",
    "        complex=question_paper.complex_level\n",
    "        course_code=question_paper.course_code\n",
    "        lsn=question_paper.lesson\n",
    "        if lsn not in lessons:\n",
    "            lessons.append(lsn)\n",
    "        #print(complex)\n",
    "        #if complex == '1':\n",
    "        #print(complex)\n",
    "        question_count.append(complex)\n",
    "print(lessons)\n",
    "print(\" eta total_counted\",question_count)\n",
    "for i in question_count:\n",
    "    if i=='1':\n",
    "        easy_count+=1       \n",
    "    if i=='2':\n",
    "        medium_count+=1       \n",
    "    if i=='3':\n",
    "        hard_count+=1\n",
    "print(easy_count,\"eta\",medium_count,\"eta\",hard_count)\n",
    "easy=easy*easy_count\n",
    "medium=medium*medium_count\n",
    "hard=hard*hard_count\n",
    "question_point=((easy+medium+hard)+total_question)\n",
    "if easy>medium and easy>hard:\n",
    "    question_point=question_point/1\n",
    "if medium>easy and medium>hard:\n",
    "    question_point=question_point/2\n",
    "if hard>easy and hard>medium:\n",
    "    question_point=question_point/3\n",
    "#vhul ase thik krte hobe\n",
    "print(question_point)    "
   ]
  }
 ],
 "metadata": {
  "kernelspec": {
   "display_name": "Python 3",
   "language": "python",
   "name": "python3"
  },
  "language_info": {
   "codemirror_mode": {
    "name": "ipython",
    "version": 3
   },
   "file_extension": ".py",
   "mimetype": "text/x-python",
   "name": "python",
   "nbconvert_exporter": "python",
   "pygments_lexer": "ipython3",
   "version": "3.8.5"
  }
 },
 "nbformat": 4,
 "nbformat_minor": 4
}
